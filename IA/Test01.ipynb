{
 "cells": [
  {
   "cell_type": "code",
   "execution_count": 36,
   "metadata": {
    "collapsed": true
   },
   "outputs": [],
   "source": [
    "%matplotlib inline\n",
    "\n",
    "import numpy as np\n",
    "import pandas as pd\n",
    "import scipy.stats as stats\n",
    "import matplotlib.pyplot as plot\n",
    "import sklearn"
   ]
  },
  {
   "cell_type": "code",
   "execution_count": 66,
   "metadata": {
    "collapsed": false
   },
   "outputs": [
    {
     "data": {
      "text/plain": [
       "Index([u'Individuo', u'Exame', u'avgmean', u'avgsddn', u'avgmin', u'avgmax',\n       u'avgmedian', u'avgsdsd', u'avgdiff_min', u'avgdiff_max',\n       u'avgdiff_median', u'avgdiff_p_mean', u'avgdiff_sqrt', u'stdmean',\n       u'stdsddn', u'stdmin', u'stdmax', u'stdmedian', u'stdsdsd',\n       u'stddiff_min', u'stddiff_max', u'stddiff_median', u'stddiff_p_mean',\n       u'stddiff_sqrt'],\n      dtype='object')"
      ]
     },
     "execution_count": 66,
     "metadata": {},
     "output_type": "execute_result"
    }
   ],
   "source": [
    "#data = pd.read_csv('IA/Dados01.csv')\n",
    "#data\n",
    "input_file = \"IA/Dados.csv\"\n",
    "\n",
    "# comma delimited is the default\n",
    "df = pd.read_csv(input_file, header=0, delimiter=\";\")\n",
    "#Headers\n",
    "original_headers = list(df.columns.values)\n",
    "\n",
    "df.keys()\n",
    "\n",
    "#from sklearn.linear_model import LinearRegression\n",
    "#lr = LinearRegression()\n",
    "#lr.predict(df, df.)"
   ]
  },
  {
   "cell_type": "code",
   "execution_count": 79,
   "metadata": {
    "collapsed": true
   },
   "outputs": [
    {
     "name": "stdout",
     "output_type": "stream",
     "text": [
      "   Individuo  Exame      avgmean      avgsddn       avgmin       avgmax  \\\n0          1      0  0,727799144  0,146790472  0,402448178  1,130652622   \n1          1      1    0,7280345  0,191861333  0,271002667     1,443504   \n2          2      0  0,803355083  0,141231833      0,37332  1,379901333   \n3          2      1    0,7843585     0,169727     0,265472     1,634312   \n4          3      0  0,784632407  0,183544884  0,342837023     1,310768   \n\n     avgmedian      avgsdsd  avgdiff_min  avgdiff_max     ...       \\\n0  0,732905511  0,134484697  0,402448178  0,600814756     ...        \n1  0,745257333     0,167207  0,271002667  0,882141333     ...        \n2     0,815082  0,119280583      0,37332  0,778441333     ...        \n3     0,796416    0,1490665     0,265472     1,260992     ...        \n4  0,805001395  0,159831709  0,342837023  0,787155349     ...        \n\n       stdsddn       stdmin       stdmax    stdmedian      stdsdsd  \\\n0  0,064307356  0,119686966  0,253449766  0,087329975  0,058087913   \n1  0,016751821  0,008568072  0,362450711  0,053614672  0,019933443   \n2  0,051127308  0,228431203  0,188094417  0,134799847  0,054251462   \n3  0,046478129            0  0,105590841  0,023464631  0,024575496   \n4  0,047266501  0,130685457  0,232886771  0,115937795  0,037579017   \n\n   stddiff_min  stddiff_max stddiff_median stddiff_p_mean stddiff_sqrt  \n0  0,119686966  0,243121065     0,06629572     0,03540396  0,081458011  \n1  0,008568072  0,229285992    0,032626246    0,014724782   0,02792759  \n2  0,228431203  0,344019632    0,041930067      0,0225368  0,075954188  \n3            0  0,093858526    0,046929263    0,019779898  0,048747941  \n4  0,130685457  0,214613749    0,045810095    0,024880816  0,055689403  \n\n[5 rows x 24 columns]\n"
     ]
    }
   ],
   "source": [
    "#df.head(2)\n",
    "print(df.iloc[:5,:])"
   ]
  },
  {
   "cell_type": "code",
   "execution_count": 80,
   "metadata": {},
   "outputs": [
    {
     "ename": "TypeError",
     "evalue": "cannot concatenate 'str' and 'float' objects",
     "traceback": [
      "\u001b[0;31m\u001b[0m",
      "\u001b[0;31mTypeError\u001b[0mTraceback (most recent call last)",
      "\u001b[0;32m<ipython-input-80-5d9f4f664923>\u001b[0m in \u001b[0;36m<module>\u001b[0;34m()\u001b[0m\n\u001b[0;32m----> 1\u001b[0;31m \u001b[0mnp\u001b[0m\u001b[0;34m.\u001b[0m\u001b[0mpolyfit\u001b[0m\u001b[0;34m(\u001b[0m\u001b[0mdf\u001b[0m\u001b[0;34m[\u001b[0m\u001b[0;34m'avgmean'\u001b[0m\u001b[0;34m]\u001b[0m\u001b[0;34m,\u001b[0m \u001b[0mdf\u001b[0m\u001b[0;34m[\u001b[0m\u001b[0;34m'avgmax'\u001b[0m\u001b[0;34m]\u001b[0m\u001b[0;34m,\u001b[0m \u001b[0;36m1\u001b[0m\u001b[0;34m)\u001b[0m\u001b[0;34m\u001b[0m\u001b[0m\n\u001b[0m",
      "\u001b[0;32mC:\\Python27\\lib\\site-packages\\numpy\\lib\\polynomial.pyc\u001b[0m in \u001b[0;36mpolyfit\u001b[0;34m(x, y, deg, rcond, full, w, cov)\u001b[0m\n\u001b[1;32m    539\u001b[0m     \"\"\"\n\u001b[1;32m    540\u001b[0m     \u001b[0morder\u001b[0m \u001b[0;34m=\u001b[0m \u001b[0mint\u001b[0m\u001b[0;34m(\u001b[0m\u001b[0mdeg\u001b[0m\u001b[0;34m)\u001b[0m \u001b[0;34m+\u001b[0m \u001b[0;36m1\u001b[0m\u001b[0;34m\u001b[0m\u001b[0m\n\u001b[0;32m--> 541\u001b[0;31m     \u001b[0mx\u001b[0m \u001b[0;34m=\u001b[0m \u001b[0mNX\u001b[0m\u001b[0;34m.\u001b[0m\u001b[0masarray\u001b[0m\u001b[0;34m(\u001b[0m\u001b[0mx\u001b[0m\u001b[0;34m)\u001b[0m \u001b[0;34m+\u001b[0m \u001b[0;36m0.0\u001b[0m\u001b[0;34m\u001b[0m\u001b[0m\n\u001b[0m\u001b[1;32m    542\u001b[0m     \u001b[0my\u001b[0m \u001b[0;34m=\u001b[0m \u001b[0mNX\u001b[0m\u001b[0;34m.\u001b[0m\u001b[0masarray\u001b[0m\u001b[0;34m(\u001b[0m\u001b[0my\u001b[0m\u001b[0;34m)\u001b[0m \u001b[0;34m+\u001b[0m \u001b[0;36m0.0\u001b[0m\u001b[0;34m\u001b[0m\u001b[0m\n\u001b[1;32m    543\u001b[0m \u001b[0;34m\u001b[0m\u001b[0m\n",
      "\u001b[0;31mTypeError\u001b[0m: cannot concatenate 'str' and 'float' objects"
     ],
     "output_type": "error"
    }
   ],
   "source": [
    "plot.scatter(df[2], )"
   ]
  },
  {
   "cell_type": "code",
   "execution_count": null,
   "metadata": {},
   "outputs": [],
   "source": []
  }
 ],
 "metadata": {
  "kernelspec": {
   "display_name": "Python 2",
   "language": "python",
   "name": "python2"
  },
  "language_info": {
   "codemirror_mode": {
    "name": "ipython",
    "version": 2
   },
   "file_extension": ".py",
   "mimetype": "text/x-python",
   "name": "python",
   "nbconvert_exporter": "python",
   "pygments_lexer": "ipython2",
   "version": "2.7.6"
  }
 },
 "nbformat": 4,
 "nbformat_minor": 0
}
